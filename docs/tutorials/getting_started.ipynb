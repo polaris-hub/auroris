{
 "cells": [
  {
   "cell_type": "code",
   "execution_count": 1,
   "id": "33ec2a2c-6866-46ed-be68-1fb3a0369605",
   "metadata": {
    "editable": true,
    "slideshow": {
     "slide_type": ""
    },
    "tags": [
     "remove_cell"
    ]
   },
   "outputs": [],
   "source": [
    "# Note: Cell is tagged to not show up in the mkdocs build\n",
    "%load_ext autoreload\n",
    "%autoreload 2"
   ]
  },
  {
   "cell_type": "code",
   "execution_count": 2,
   "id": "976c5af4-2819-4cd6-8a57-072441eb9305",
   "metadata": {
    "editable": true,
    "slideshow": {
     "slide_type": ""
    },
    "tags": [
     "remove_cell"
    ]
   },
   "outputs": [],
   "source": [
    "# Note: Cell is tagged to not show up in the mkdocs build\n",
    "import warnings\n",
    "\n",
    "warnings.filterwarnings(\"ignore\")"
   ]
  },
  {
   "cell_type": "markdown",
   "id": "522437cc-c955-4cd3-b440-087154f550a1",
   "metadata": {
    "editable": true,
    "slideshow": {
     "slide_type": ""
    },
    "tags": []
   },
   "source": [
    "<div class=\"admonition abstract highlight\">\n",
    "    <p class=\"admonition-title\">In short</p>\n",
    "    <p>This tutorial gives an overview of the basic concepts in the `auroris` library.</p>\n",
    "</div>\n",
    "\n",
    "<div class=\"admonition warning highlight\">\n",
    "    <p class=\"admonition-title\">On the nuances of curation</p>\n",
    "    <p>How to best curate a dataset is highly situation-dependent. The `auroris` library includes some useful tools, but blindly applying them won't necessarily lead to good datasets. To learn more, visit <a href=\"https://www.polarishub.io\">the Polaris Hub</a> for extensive resources and documentation on dataset curation and more.</p>\n",
    "</div>\n",
    "\n",
    "Data curation is concerned with analyzing and processing an existing dataset to maximize its quality. Within drug discovery, this can imply many things, such as filtering out outliers or flagging activity-cliffs. High-quality, well-curated datasets are the foundation upon which we can build realistic, impactful benchmarks for drug discovery. This notebook demonstrates how to curate your dataset with the Polaris data curation API for small molecules."
   ]
  },
  {
   "cell_type": "markdown",
   "id": "b2d963eb-d6f3-4ac8-8f3b-fbda5444a76d",
   "metadata": {
    "editable": true,
    "slideshow": {
     "slide_type": ""
    },
    "tags": []
   },
   "source": [
    "## Curating a toy dataset\n",
    "\n",
    "Let's learn about the basic concepts of the `auroris` library by curating a toy dataset. For the sake of simplicity, we will use the <a href=\"https://docs.datamol.io/stable/api/datamol.data.html#datamol.data.solubility\">solubility dataset from Datamol</a>. It is worth noting that this dataset is only meant to be used as a toy dataset for pedagogic and testing purposes. It is <b>not a dataset for benchmarking, analysis or model training</b>. Curation can only take us so far. For impactful benchmarks, we rely on high-quality data sources to begin with."
   ]
  },
  {
   "cell_type": "code",
   "execution_count": 3,
   "id": "a8f88963-f561-4cdc-8bfb-0a3045743e98",
   "metadata": {
    "editable": true,
    "slideshow": {
     "slide_type": ""
    },
    "tags": []
   },
   "outputs": [],
   "source": [
    "import datamol as dm"
   ]
  },
  {
   "cell_type": "code",
   "execution_count": 4,
   "id": "5483a1fd-b22e-43e5-92f4-e6e8f4f3e629",
   "metadata": {
    "editable": true,
    "slideshow": {
     "slide_type": ""
    },
    "tags": []
   },
   "outputs": [
    {
     "data": {
      "text/html": [
       "<div>\n",
       "<style scoped>\n",
       "    .dataframe tbody tr th:only-of-type {\n",
       "        vertical-align: middle;\n",
       "    }\n",
       "\n",
       "    .dataframe tbody tr th {\n",
       "        vertical-align: top;\n",
       "    }\n",
       "\n",
       "    .dataframe thead th {\n",
       "        text-align: right;\n",
       "    }\n",
       "</style>\n",
       "<table border=\"1\" class=\"dataframe\">\n",
       "  <thead>\n",
       "    <tr style=\"text-align: right;\">\n",
       "      <th></th>\n",
       "      <th>mol</th>\n",
       "      <th>ID</th>\n",
       "      <th>NAME</th>\n",
       "      <th>SOL</th>\n",
       "      <th>SOL_classification</th>\n",
       "      <th>smiles</th>\n",
       "      <th>split</th>\n",
       "    </tr>\n",
       "  </thead>\n",
       "  <tbody>\n",
       "    <tr>\n",
       "      <th>0</th>\n",
       "      <td>&lt;rdkit.Chem.rdchem.Mol object at 0x169be1fc0&gt;</td>\n",
       "      <td>1</td>\n",
       "      <td>n-pentane</td>\n",
       "      <td>-3.18</td>\n",
       "      <td>(A) low</td>\n",
       "      <td>CCCCC</td>\n",
       "      <td>train</td>\n",
       "    </tr>\n",
       "    <tr>\n",
       "      <th>1</th>\n",
       "      <td>&lt;rdkit.Chem.rdchem.Mol object at 0x169be2110&gt;</td>\n",
       "      <td>2</td>\n",
       "      <td>cyclopentane</td>\n",
       "      <td>-2.64</td>\n",
       "      <td>(B) medium</td>\n",
       "      <td>C1CCCC1</td>\n",
       "      <td>train</td>\n",
       "    </tr>\n",
       "    <tr>\n",
       "      <th>2</th>\n",
       "      <td>&lt;rdkit.Chem.rdchem.Mol object at 0x169be2180&gt;</td>\n",
       "      <td>3</td>\n",
       "      <td>n-hexane</td>\n",
       "      <td>-3.84</td>\n",
       "      <td>(A) low</td>\n",
       "      <td>CCCCCC</td>\n",
       "      <td>train</td>\n",
       "    </tr>\n",
       "    <tr>\n",
       "      <th>3</th>\n",
       "      <td>&lt;rdkit.Chem.rdchem.Mol object at 0x169be21f0&gt;</td>\n",
       "      <td>4</td>\n",
       "      <td>2-methylpentane</td>\n",
       "      <td>-3.74</td>\n",
       "      <td>(A) low</td>\n",
       "      <td>CCCC(C)C</td>\n",
       "      <td>train</td>\n",
       "    </tr>\n",
       "    <tr>\n",
       "      <th>4</th>\n",
       "      <td>&lt;rdkit.Chem.rdchem.Mol object at 0x169be2260&gt;</td>\n",
       "      <td>6</td>\n",
       "      <td>2,2-dimethylbutane</td>\n",
       "      <td>-3.55</td>\n",
       "      <td>(A) low</td>\n",
       "      <td>CCC(C)(C)C</td>\n",
       "      <td>train</td>\n",
       "    </tr>\n",
       "  </tbody>\n",
       "</table>\n",
       "</div>"
      ],
      "text/plain": [
       "                                             mol  ID                NAME  \\\n",
       "0  <rdkit.Chem.rdchem.Mol object at 0x169be1fc0>   1           n-pentane   \n",
       "1  <rdkit.Chem.rdchem.Mol object at 0x169be2110>   2        cyclopentane   \n",
       "2  <rdkit.Chem.rdchem.Mol object at 0x169be2180>   3            n-hexane   \n",
       "3  <rdkit.Chem.rdchem.Mol object at 0x169be21f0>   4     2-methylpentane   \n",
       "4  <rdkit.Chem.rdchem.Mol object at 0x169be2260>   6  2,2-dimethylbutane   \n",
       "\n",
       "    SOL SOL_classification      smiles  split  \n",
       "0 -3.18            (A) low       CCCCC  train  \n",
       "1 -2.64         (B) medium     C1CCCC1  train  \n",
       "2 -3.84            (A) low      CCCCCC  train  \n",
       "3 -3.74            (A) low    CCCC(C)C  train  \n",
       "4 -3.55            (A) low  CCC(C)(C)C  train  "
      ]
     },
     "execution_count": 4,
     "metadata": {},
     "output_type": "execute_result"
    }
   ],
   "source": [
    "# Load your data set\n",
    "# See more details of the dataset at https://docs.datamol.io/stable/api/datamol.data.html\n",
    "data = dm.data.solubility()\n",
    "data.head(5)"
   ]
  },
  {
   "cell_type": "markdown",
   "id": "b7a784e7-54a8-42b8-b444-73c1d1a8e419",
   "metadata": {},
   "source": [
    "## Using the `Curator` API\n",
    "The recommended way to specify curation workflows is through the `Curator` API:\n",
    "- A `Curator` object defines a number of curation steps.\n",
    "- Each step should inherit from `auroris.curation.actions.BaseAction`.\n",
    "- The `Curator` object is serializable. You can thus easily save and load it from JSON, which makes it easy to reproduce a curation workflow.\n",
    "- Finally, the `Curator` produces a `CurationReport` which summarizes the changes made to a dataset.\n",
    "\n",
    "Let's define a simple workflow with three steps:\n",
    "1. Curate the chemical structures\n",
    "2. Detect outliers\n",
    "3. Bin the regression column"
   ]
  },
  {
   "cell_type": "code",
   "execution_count": 5,
   "id": "f9dbba41-2bd2-4321-b948-13877cee5b13",
   "metadata": {},
   "outputs": [
    {
     "name": "stderr",
     "output_type": "stream",
     "text": [
      "\u001b[32m2024-05-23 00:53:40.139\u001b[0m | \u001b[1mINFO    \u001b[0m | \u001b[36mauroris.curation._curator\u001b[0m:\u001b[36mtransform\u001b[0m:\u001b[36m88\u001b[0m - \u001b[1mPerforming step: mol_curation\u001b[0m\n",
      "\u001b[32m2024-05-23 00:53:55.266\u001b[0m | \u001b[1mINFO    \u001b[0m | \u001b[36mauroris.curation._curator\u001b[0m:\u001b[36mtransform\u001b[0m:\u001b[36m88\u001b[0m - \u001b[1mPerforming step: outlier_detection\u001b[0m\n",
      "\u001b[32m2024-05-23 00:53:55.338\u001b[0m | \u001b[1mINFO    \u001b[0m | \u001b[36mauroris.curation._curator\u001b[0m:\u001b[36mtransform\u001b[0m:\u001b[36m88\u001b[0m - \u001b[1mPerforming step: discretize\u001b[0m\n"
     ]
    }
   ],
   "source": [
    "from auroris.curation import Curator\n",
    "from auroris.curation.actions import MoleculeCuration, OutlierDetection, Discretization\n",
    "\n",
    "# Define the curation workflow\n",
    "curator = Curator(\n",
    "    steps=[\n",
    "        MoleculeCuration(input_column=\"smiles\"),\n",
    "        OutlierDetection(method=\"zscore\", columns=[\"SOL\"]),\n",
    "        Discretization(input_column=\"SOL\", thresholds=[-3]),\n",
    "    ],\n",
    "    parallelized_kwargs = { \"n_jobs\": -1 }\n",
    ")\n",
    "\n",
    "# Run the curation\n",
    "dataset, report = curator(data)"
   ]
  },
  {
   "cell_type": "markdown",
   "id": "e1a91d75-fa0e-4e0d-89a5-83c05af6da4c",
   "metadata": {},
   "source": [
    "The report can be exported (\"broadcaster\") to a variety of different formats. Let's simply log it to the CLI for now. "
   ]
  },
  {
   "cell_type": "code",
   "execution_count": 6,
   "id": "98aaadd9-8c0f-412e-ab74-79b8f9a3d75a",
   "metadata": {},
   "outputs": [
    {
     "name": "stdout",
     "output_type": "stream",
     "text": [
      "\u001b[31;1m===== Curation Report =====\u001b[0m\n",
      "\u001b[38;20mTime: 2024-05-23 00:53:40\u001b[0m\n",
      "\u001b[38;20mVersion: dev\u001b[0m\n",
      "\u001b[38;20m===== mol_curation =====\u001b[0m\n",
      "\u001b[38;20m[LOG]: Couldn't preprocess 18 / 1282 molecules.\u001b[0m\n",
      "\u001b[38;20m[LOG]: New column added: MOL_smiles\u001b[0m\n",
      "\u001b[38;20m[LOG]: New column added: MOL_molhash_id\u001b[0m\n",
      "\u001b[38;20m[LOG]: New column added: MOL_molhash_id_no_stereo\u001b[0m\n",
      "\u001b[38;20m[LOG]: New column added: MOL_num_stereoisomers\u001b[0m\n",
      "\u001b[38;20m[LOG]: New column added: MOL_num_undefined_stereoisomers\u001b[0m\n",
      "\u001b[38;20m[LOG]: New column added: MOL_num_defined_stereo_center\u001b[0m\n",
      "\u001b[38;20m[LOG]: New column added: MOL_num_undefined_stereo_center\u001b[0m\n",
      "\u001b[38;20m[LOG]: New column added: MOL_num_stereo_center\u001b[0m\n",
      "\u001b[38;20m[LOG]: New column added: MOL_undefined_E_D\u001b[0m\n",
      "\u001b[38;20m[LOG]: New column added: MOL_undefined_E/Z\u001b[0m\n",
      "\u001b[38;20m[LOG]: Default `ecfp` fingerprint is used to compute the distributionin chemical space.\u001b[0m\n",
      "\u001b[38;20m[LOG]: Molecules with undefined stereocenter detected: 253.\u001b[0m\n",
      "\u001b[38;20m[IMG]: Dimensions 1200 x 600\u001b[0m\n",
      "\u001b[38;20m[IMG]: Dimensions 1200 x 600\u001b[0m\n",
      "\u001b[38;20m===== outlier_detection =====\u001b[0m\n",
      "\u001b[38;20m[LOG]: New column added: OUTLIER_SOL\u001b[0m\n",
      "\u001b[38;20m[LOG]: Found 7 potential outliers with respect to the SOL column for review.\u001b[0m\n",
      "\u001b[38;20m[IMG]: Dimensions 1200 x 600\u001b[0m\n",
      "\u001b[38;20m===== discretize =====\u001b[0m\n",
      "\u001b[38;20m[LOG]: New column added: CLS_SOL\u001b[0m\n",
      "\u001b[38;20m[IMG]: Dimensions 1200 x 600\u001b[0m\n",
      "\u001b[31;1m===== Curation Report END =====\u001b[0m\n"
     ]
    }
   ],
   "source": [
    "from auroris.report.broadcaster import LoggerBroadcaster\n",
    "\n",
    "broadcaster = LoggerBroadcaster(report)\n",
    "broadcaster.broadcast()"
   ]
  },
  {
   "cell_type": "markdown",
   "id": "ec502fef-a4d5-4feb-b39d-59a571f60995",
   "metadata": {},
   "source": [
    "We can see that there is also images in the report! More advanced broadcasters will display these, such as the `HTMLBroadcaster`. \n"
   ]
  },
  {
   "cell_type": "code",
   "execution_count": 7,
   "id": "9b896b12-fbae-4b7b-b62a-f2d2d15075c1",
   "metadata": {},
   "outputs": [
    {
     "data": {
      "text/plain": [
       "'/var/folders/_7/ffxc1f251dbb5msn977xl4sm0000gr/T/tmpp9qm656e/index.html'"
      ]
     },
     "execution_count": 7,
     "metadata": {},
     "output_type": "execute_result"
    }
   ],
   "source": [
    "from auroris.report.broadcaster import HTMLBroadcaster\n",
    "import tempfile\n",
    "\n",
    "temp_dir = tempfile.TemporaryDirectory().name\n",
    "\n",
    "broadcaster = HTMLBroadcaster(report= report, \n",
    "                              destination=temp_dir, \n",
    "                              embed_images=True)\n",
    "broadcaster.broadcast()"
   ]
  },
  {
   "cell_type": "markdown",
   "id": "8decc86f-b94d-446d-9411-b3164cbcf4f1",
   "metadata": {},
   "source": [
    "Let's also look at a single row of the new curated dataset! "
   ]
  },
  {
   "cell_type": "code",
   "execution_count": 8,
   "id": "97be9d29-03eb-4eb7-b9c0-ac84413f6dca",
   "metadata": {},
   "outputs": [
    {
     "data": {
      "text/plain": [
       "mol                                <rdkit.Chem.rdchem.Mol object at 0x169be1fc0>\n",
       "ID                                                                             1\n",
       "NAME                                                                   n-pentane\n",
       "SOL                                                                        -3.18\n",
       "SOL_classification                                                       (A) low\n",
       "smiles                                                                     CCCCC\n",
       "split                                                                      train\n",
       "MOL_smiles                                                                 CCCCC\n",
       "MOL_molhash_id                          3cb2e0cf1b50d8f954891abc5dcce90d543cd3d7\n",
       "MOL_molhash_id_no_stereo                36551d628217a351e720cdbe676fca3067730a91\n",
       "MOL_num_stereoisomers                                                        1.0\n",
       "MOL_num_undefined_stereoisomers                                              1.0\n",
       "MOL_num_defined_stereo_center                                                0.0\n",
       "MOL_num_undefined_stereo_center                                              0.0\n",
       "MOL_num_stereo_center                                                        0.0\n",
       "MOL_undefined_E_D                                                          False\n",
       "MOL_undefined_E/Z                                                              0\n",
       "OUTLIER_SOL                                                                False\n",
       "CLS_SOL                                                                      0.0\n",
       "Name: 0, dtype: object"
      ]
     },
     "execution_count": 8,
     "metadata": {},
     "output_type": "execute_result"
    }
   ],
   "source": [
    "dataset.iloc[0]"
   ]
  },
  {
   "cell_type": "markdown",
   "id": "bdcece7a-3572-4680-a644-fb50e50f1638",
   "metadata": {
    "editable": true,
    "slideshow": {
     "slide_type": ""
    },
    "tags": []
   },
   "source": [
    "### Using the functional API\n",
    "`auroris` provides a functional API to easily and quickly run some curation steps. Let's look at an oulier detection example."
   ]
  },
  {
   "cell_type": "code",
   "execution_count": 9,
   "id": "f5044a09-c34f-4888-a5ac-65fb62225129",
   "metadata": {
    "editable": true,
    "slideshow": {
     "slide_type": ""
    },
    "tags": []
   },
   "outputs": [
    {
     "data": {
      "image/png": "[encoded data removed]",
      "text/plain": [
       "<Figure size 1200x600 with 1 Axes>"
      ]
     },
     "metadata": {},
     "output_type": "display_data"
    }
   ],
   "source": [
    "from auroris.curation.functional import detect_outliers\n",
    "from auroris.visualization import visualize_distribution_with_outliers\n",
    "\n",
    "y = dataset[\"SOL\"].values\n",
    "is_outlier = detect_outliers(y)\n",
    "visualize_distribution_with_outliers(y, is_outlier);"
   ]
  },
  {
   "cell_type": "markdown",
   "id": "ab0db987-8e20-4cfd-963d-72203a757c68",
   "metadata": {},
   "source": [
    "The End. "
   ]
  }
 ],
 "metadata": {
  "kernelspec": {
   "display_name": "Python 3 (ipykernel)",
   "language": "python",
   "name": "python3"
  },
  "language_info": {
   "codemirror_mode": {
    "name": "ipython",
    "version": 3
   },
   "file_extension": ".py",
   "mimetype": "text/x-python",
   "name": "python",
   "nbconvert_exporter": "python",
   "pygments_lexer": "ipython3",
   "version": "3.12.3"
  }
 },
 "nbformat": 4,
 "nbformat_minor": 5
}
